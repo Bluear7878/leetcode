{
 "cells": [
  {
   "cell_type": "markdown",
   "id": "433c5a1a",
   "metadata": {},
   "source": [
    "https://leetcode.com/problems/jump-game/submissions/1670122148/"
   ]
  },
  {
   "cell_type": "code",
   "execution_count": 99,
   "id": "2ee2e070",
   "metadata": {},
   "outputs": [],
   "source": [
    "from typing import List\n",
    "class Solution:\n",
    "    def canJump(self, nums: List[int]) -> bool:\n",
    "        n = len(nums)\n",
    "\n",
    "        res = False\n",
    "        DP = [False for _ in range(n+1)]\n",
    "        DP[0] = True\n",
    "\n",
    "        for i,num in enumerate(nums):\n",
    "            if DP[i]:\n",
    "                for j in range(i,i+num+1):\n",
    "                    if j>n:\n",
    "                        break\n",
    "                    DP[j] = True\n",
    "                    if j == (n-1):\n",
    "                        break\n",
    "        return DP[n-1]\n",
    "    \n",
    "    def eneff_canJump(self, nums: List[int]) -> bool:\n",
    "        n = len(nums)\n",
    "\n",
    "        res = False\n",
    "        DP = [[False for _ in range(n+1)] for _ in range(n+1)]\n",
    "        DP[0][0] = True\n",
    "\n",
    "        for i,num in enumerate(nums):\n",
    "            is_pos = False\n",
    "            for k in range(i+1,-1,-1):\n",
    "                if DP[k][i]:\n",
    "                    #도달 가능하면 진행\n",
    "                    is_pos = True\n",
    "                    break\n",
    "            if is_pos is False:\n",
    "                #도달불가능한곳이면 진행 X\n",
    "                continue\n",
    "\n",
    "            for j in range(i,i+num+1):\n",
    "                if j>n:\n",
    "                    break\n",
    "                DP[i][j] = True\n",
    "\n",
    "                if j == (n-1):\n",
    "                    res = True\n",
    "                    break\n",
    "        return res"
   ]
  },
  {
   "cell_type": "code",
   "execution_count": 100,
   "id": "6f16cc42",
   "metadata": {},
   "outputs": [],
   "source": [
    "sol = Solution()"
   ]
  },
  {
   "cell_type": "code",
   "execution_count": 101,
   "id": "8eab1dd8",
   "metadata": {},
   "outputs": [
    {
     "name": "stdout",
     "output_type": "stream",
     "text": [
      "True\n"
     ]
    }
   ],
   "source": [
    "nums = [2,3,1,1,4]\n",
    "print(sol.canJump(nums)) # True"
   ]
  },
  {
   "cell_type": "code",
   "execution_count": 102,
   "id": "61a83d3d",
   "metadata": {},
   "outputs": [
    {
     "name": "stdout",
     "output_type": "stream",
     "text": [
      "False\n"
     ]
    }
   ],
   "source": [
    "nums = [3,2,1,0,4]\n",
    "print(sol.canJump(nums)) # False"
   ]
  },
  {
   "cell_type": "code",
   "execution_count": 92,
   "id": "82b58686",
   "metadata": {},
   "outputs": [],
   "source": [
    "nums = [2,2,0,1,4]\n",
    "nums = [1,0,8,0]"
   ]
  },
  {
   "cell_type": "code",
   "execution_count": 96,
   "id": "fce3dbfb",
   "metadata": {},
   "outputs": [],
   "source": [
    "n = len(nums)\n",
    "\n",
    "res = False\n",
    "DP = [False for _ in range(n+1)]\n",
    "DP[0] = True\n",
    "\n",
    "for i,num in enumerate(nums):\n",
    "    if DP[i]:\n",
    "        for j in range(i,i+num+1):\n",
    "            if j>n:\n",
    "                break\n",
    "            DP[j] = True\n",
    "            if j== (n-1):\n",
    "                break"
   ]
  },
  {
   "cell_type": "code",
   "execution_count": 97,
   "id": "db21587d",
   "metadata": {},
   "outputs": [
    {
     "data": {
      "text/plain": [
       "False"
      ]
     },
     "execution_count": 97,
     "metadata": {},
     "output_type": "execute_result"
    }
   ],
   "source": [
    "DP[n-1]"
   ]
  },
  {
   "cell_type": "code",
   "execution_count": 98,
   "id": "38523600",
   "metadata": {},
   "outputs": [
    {
     "data": {
      "text/plain": [
       "[True, True, False, False, False]"
      ]
     },
     "execution_count": 98,
     "metadata": {},
     "output_type": "execute_result"
    }
   ],
   "source": [
    "DP"
   ]
  },
  {
   "cell_type": "code",
   "execution_count": null,
   "id": "5a7dd244",
   "metadata": {},
   "outputs": [],
   "source": []
  }
 ],
 "metadata": {
  "kernelspec": {
   "display_name": "llama3_ft",
   "language": "python",
   "name": "python3"
  },
  "language_info": {
   "codemirror_mode": {
    "name": "ipython",
    "version": 3
   },
   "file_extension": ".py",
   "mimetype": "text/x-python",
   "name": "python",
   "nbconvert_exporter": "python",
   "pygments_lexer": "ipython3",
   "version": "3.10.16"
  }
 },
 "nbformat": 4,
 "nbformat_minor": 5
}
