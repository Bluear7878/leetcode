{
 "cells": [
  {
   "cell_type": "code",
   "execution_count": 1,
   "id": "66db2b7f",
   "metadata": {},
   "outputs": [],
   "source": [
    "#https://leetcode.com/problems/longest-palindromic-substring/description/"
   ]
  },
  {
   "cell_type": "code",
   "execution_count": 78,
   "id": "14fa5c60",
   "metadata": {},
   "outputs": [],
   "source": [
    "class Solution:\n",
    "    def longestPalindrome(self, s : str)->str:\n",
    "        n = len(s)\n",
    "\n",
    "        DP = [[i>=j for j in range(n)] for i in range(n)]\n",
    "        \n",
    "        cnt  = 1\n",
    "        res = [1,0,0]\n",
    "        i = 0\n",
    "        j = 1\n",
    "        while cnt<n:\n",
    "            while j<n:\n",
    "                if s[i] == s[j] and DP[i+1][j-1]:\n",
    "                    DP[i][j] = True\n",
    "                    if res[0] < j-i+1:\n",
    "                        res = [j-i+1,i,j]\n",
    "                i += 1\n",
    "                j += 1\n",
    "                \n",
    "            cnt+=1\n",
    "            i = 0\n",
    "            j = cnt\n",
    "        return s[res[1]:res[2]+1]\n",
    "\n",
    "    def is_palindrome(self,s1: str,s2: str)-> bool:\n",
    "        return s1 == s2[::-1]\n",
    "\n",
    "    def brute_force_longestPalindrome(self, s: str) -> str:\n",
    "        result = len(s) + 1\n",
    "        for i in range(len(s)):\n",
    "            result -=1\n",
    "            for j in range(0,i+1):\n",
    "                back = len(s)-i+j\n",
    "                sub_str = s[j:back]\n",
    "\n",
    "                len_sub_str = len(sub_str)\n",
    "                mid = len_sub_str//2\n",
    "\n",
    "                if len_sub_str % 2 == 0:\n",
    "                    #짝수\n",
    "                    if self.is_palindrome(sub_str[:mid], sub_str[mid:]):\n",
    "                        return sub_str\n",
    "                else:\n",
    "                    if self.is_palindrome(sub_str[:mid], sub_str[mid+1:]):\n",
    "                        return sub_str"
   ]
  },
  {
   "cell_type": "code",
   "execution_count": 79,
   "id": "73299d0b",
   "metadata": {},
   "outputs": [],
   "source": [
    "sol = Solution()"
   ]
  },
  {
   "cell_type": "code",
   "execution_count": 80,
   "id": "93936def",
   "metadata": {},
   "outputs": [
    {
     "name": "stdout",
     "output_type": "stream",
     "text": [
      "bab\n"
     ]
    }
   ],
   "source": [
    "s = \"babad\"\n",
    "print(sol.longestPalindrome(s))  # Expected output: \"bab\" or \"aba\""
   ]
  },
  {
   "cell_type": "code",
   "execution_count": 81,
   "id": "a3c3e09d",
   "metadata": {},
   "outputs": [
    {
     "name": "stdout",
     "output_type": "stream",
     "text": [
      "bb\n"
     ]
    }
   ],
   "source": [
    "s = \"cbbd\"\n",
    "print(sol.longestPalindrome(s))  # Expected output: \"bb\""
   ]
  },
  {
   "cell_type": "code",
   "execution_count": 82,
   "id": "544ad7b2",
   "metadata": {},
   "outputs": [
    {
     "name": "stdout",
     "output_type": "stream",
     "text": [
      "cabac\n"
     ]
    }
   ],
   "source": [
    "s = \"abcabacf\"\n",
    "print(sol.longestPalindrome(s))  # Expected output: \"aba\""
   ]
  },
  {
   "cell_type": "code",
   "execution_count": 69,
   "id": "471b15d1",
   "metadata": {},
   "outputs": [],
   "source": [
    "s = \"a\""
   ]
  },
  {
   "cell_type": "code",
   "execution_count": 74,
   "id": "8da6c222",
   "metadata": {},
   "outputs": [],
   "source": [
    "def longestPalindrome(s : str)->str:\n",
    "    n = len(s)\n",
    "\n",
    "    DP = [[i>=j for j in range(n)] for i in range(n)]\n",
    "    \n",
    "    cnt  = 1\n",
    "    res = [1,0,0]\n",
    "    i = 0\n",
    "    j = 1\n",
    "    while cnt<n:\n",
    "        while j<n:\n",
    "            if s[i] == s[j] and DP[i+1][j-1]:\n",
    "                DP[i][j] = True\n",
    "                if res[0] < j-i+1:\n",
    "                    res = [j-i+1,i,j]\n",
    "            i += 1\n",
    "            j += 1\n",
    "            \n",
    "        cnt+=1\n",
    "        i = 0\n",
    "        j = cnt\n",
    "    return DP,s[res[1]:res[2]+1]\n"
   ]
  },
  {
   "cell_type": "code",
   "execution_count": 75,
   "id": "01d54241",
   "metadata": {},
   "outputs": [],
   "source": [
    "DP,res = longestPalindrome(s)"
   ]
  },
  {
   "cell_type": "code",
   "execution_count": 76,
   "id": "2ab6bbf5",
   "metadata": {},
   "outputs": [
    {
     "data": {
      "text/plain": [
       "'a'"
      ]
     },
     "execution_count": 76,
     "metadata": {},
     "output_type": "execute_result"
    }
   ],
   "source": [
    "s"
   ]
  },
  {
   "cell_type": "code",
   "execution_count": 77,
   "id": "d488778d",
   "metadata": {},
   "outputs": [
    {
     "data": {
      "text/plain": [
       "[[True]]"
      ]
     },
     "execution_count": 77,
     "metadata": {},
     "output_type": "execute_result"
    }
   ],
   "source": [
    "DP"
   ]
  },
  {
   "cell_type": "code",
   "execution_count": 60,
   "id": "bc97b359",
   "metadata": {},
   "outputs": [
    {
     "data": {
      "text/plain": [
       "'cabac'"
      ]
     },
     "execution_count": 60,
     "metadata": {},
     "output_type": "execute_result"
    }
   ],
   "source": [
    "res"
   ]
  },
  {
   "cell_type": "code",
   "execution_count": null,
   "id": "d8283fef",
   "metadata": {},
   "outputs": [],
   "source": []
  }
 ],
 "metadata": {
  "kernelspec": {
   "display_name": "llama3_ft",
   "language": "python",
   "name": "python3"
  },
  "language_info": {
   "codemirror_mode": {
    "name": "ipython",
    "version": 3
   },
   "file_extension": ".py",
   "mimetype": "text/x-python",
   "name": "python",
   "nbconvert_exporter": "python",
   "pygments_lexer": "ipython3",
   "version": "3.10.16"
  }
 },
 "nbformat": 4,
 "nbformat_minor": 5
}
