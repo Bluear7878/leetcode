{
 "cells": [
  {
   "cell_type": "code",
   "execution_count": 45,
   "id": "46a30729",
   "metadata": {},
   "outputs": [],
   "source": [
    "class Solution:\n",
    "    def uniquePaths(self, m: int, n: int) -> int:\n",
    "        DP = [1 for _ in range(n)]\n",
    "        for i in range(1,m):\n",
    "            for j in range(1,n):\n",
    "                DP[j] = DP[j] + DP[j-1]\n",
    "        return DP[n-1]\n",
    "        \n",
    "    def uneff_uniquePaths(self, m: int, n: int) -> int:\n",
    "        DP = [[1 for _ in range(n)] for _ in range(m)]\n",
    "        for i in range(1,m):\n",
    "            for j in range(1,n):\n",
    "                DP[i][j] = DP[i-1][j] + DP[i][j-1]\n",
    "        return DP[m-1][n-1]"
   ]
  },
  {
   "cell_type": "code",
   "execution_count": 46,
   "id": "fd3b40ae",
   "metadata": {},
   "outputs": [],
   "source": [
    "sol = Solution()"
   ]
  },
  {
   "cell_type": "code",
   "execution_count": 47,
   "id": "35384e0f",
   "metadata": {},
   "outputs": [
    {
     "name": "stdout",
     "output_type": "stream",
     "text": [
      "28\n"
     ]
    }
   ],
   "source": [
    "m = 3\n",
    "n = 7\n",
    "print(sol.uniquePaths(m,n)) ##Output 28"
   ]
  },
  {
   "cell_type": "code",
   "execution_count": 48,
   "id": "fa09a089",
   "metadata": {},
   "outputs": [
    {
     "name": "stdout",
     "output_type": "stream",
     "text": [
      "3\n"
     ]
    }
   ],
   "source": [
    "m = 3\n",
    "n = 2\n",
    "print(sol.uniquePaths(m,n)) ##Output 3"
   ]
  },
  {
   "cell_type": "code",
   "execution_count": 31,
   "id": "c1105b9b",
   "metadata": {},
   "outputs": [],
   "source": [
    "m = 3\n",
    "n = 7\n",
    "DP = [[1 for _ in range(n)] for _ in range(m)]"
   ]
  },
  {
   "cell_type": "code",
   "execution_count": 36,
   "id": "c91abe67",
   "metadata": {},
   "outputs": [],
   "source": [
    "DP = [1 for _ in range(n)]"
   ]
  },
  {
   "cell_type": "code",
   "execution_count": 37,
   "id": "c40cdec3",
   "metadata": {},
   "outputs": [
    {
     "data": {
      "text/plain": [
       "[1, 1, 1, 1, 1, 1, 1]"
      ]
     },
     "execution_count": 37,
     "metadata": {},
     "output_type": "execute_result"
    }
   ],
   "source": [
    "DP"
   ]
  },
  {
   "cell_type": "code",
   "execution_count": 38,
   "id": "20e46daa",
   "metadata": {},
   "outputs": [],
   "source": [
    "for i in range(1,m):\n",
    "    for j in range(1,n):\n",
    "        DP[j] = DP[j] + DP[j-1]"
   ]
  },
  {
   "cell_type": "code",
   "execution_count": 44,
   "id": "b0a5acee",
   "metadata": {},
   "outputs": [
    {
     "data": {
      "text/plain": [
       "28"
      ]
     },
     "execution_count": 44,
     "metadata": {},
     "output_type": "execute_result"
    }
   ],
   "source": [
    "DP[n-1]"
   ]
  },
  {
   "cell_type": "code",
   "execution_count": 18,
   "id": "e50c1132",
   "metadata": {},
   "outputs": [],
   "source": [
    "for i in range(1,m):\n",
    "    for j in range(1,n):\n",
    "        DP[i][j] = DP[i-1][j] + DP[i][j-1]"
   ]
  },
  {
   "cell_type": "code",
   "execution_count": 19,
   "id": "bf825796",
   "metadata": {},
   "outputs": [
    {
     "data": {
      "text/plain": [
       "3"
      ]
     },
     "execution_count": 19,
     "metadata": {},
     "output_type": "execute_result"
    }
   ],
   "source": [
    "DP[m-1][n-1]"
   ]
  },
  {
   "cell_type": "code",
   "execution_count": null,
   "id": "9cdb36ae",
   "metadata": {},
   "outputs": [],
   "source": []
  }
 ],
 "metadata": {
  "kernelspec": {
   "display_name": "llama3_ft",
   "language": "python",
   "name": "python3"
  },
  "language_info": {
   "codemirror_mode": {
    "name": "ipython",
    "version": 3
   },
   "file_extension": ".py",
   "mimetype": "text/x-python",
   "name": "python",
   "nbconvert_exporter": "python",
   "pygments_lexer": "ipython3",
   "version": "3.10.16"
  }
 },
 "nbformat": 4,
 "nbformat_minor": 5
}
