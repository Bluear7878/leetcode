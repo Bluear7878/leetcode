{
 "cells": [
  {
   "cell_type": "code",
   "execution_count": 38,
   "id": "a65d919f",
   "metadata": {},
   "outputs": [],
   "source": [
    "from typing import List\n",
    "class Solution:\n",
    "    def minPathSum(self, grid: List[List[int]]) -> int:\n",
    "        m = len(grid)\n",
    "        n = len(grid[0])\n",
    "        DP = [9999999 for _ in range(n)]\n",
    "\n",
    "        for i in range(m):\n",
    "            for j in range(n):\n",
    "                if i==0 and j==0:\n",
    "                    DP[0] = grid[0][0]\n",
    "                    continue\n",
    "                prev_col = DP[j-1]\n",
    "                \n",
    "                DP[j] = min(prev_col, DP[j]) + grid[i][j]\n",
    "        return DP[n-1]"
   ]
  },
  {
   "cell_type": "code",
   "execution_count": 39,
   "id": "eb2f06b0",
   "metadata": {},
   "outputs": [],
   "source": [
    "sol = Solution()"
   ]
  },
  {
   "cell_type": "code",
   "execution_count": 40,
   "id": "86f7503f",
   "metadata": {},
   "outputs": [
    {
     "name": "stdout",
     "output_type": "stream",
     "text": [
      "7\n"
     ]
    }
   ],
   "source": [
    "grid = [[1,3,1],[1,5,1],[4,2,1]]\n",
    "print(sol.minPathSum(grid))# Outputs : 7"
   ]
  },
  {
   "cell_type": "code",
   "execution_count": 41,
   "id": "6cfcb348",
   "metadata": {},
   "outputs": [
    {
     "name": "stdout",
     "output_type": "stream",
     "text": [
      "12\n"
     ]
    }
   ],
   "source": [
    "grid = [[1,2,3],[4,5,6]]\n",
    "print(sol.minPathSum(grid))# Outputs : 12"
   ]
  },
  {
   "cell_type": "code",
   "execution_count": 34,
   "id": "83ed99ee",
   "metadata": {},
   "outputs": [],
   "source": [
    "grid = [[1,3,1],[1,5,1],[4,2,1]]"
   ]
  },
  {
   "cell_type": "code",
   "execution_count": 35,
   "id": "5b207823",
   "metadata": {},
   "outputs": [],
   "source": [
    "m = len(grid)\n",
    "n = len(grid[0])\n",
    "DP = [9999999 for _ in range(n)]\n",
    "\n",
    "for i in range(m):\n",
    "    for j in range(n):\n",
    "        if i==0 and j==0:\n",
    "            DP[0] = grid[0][0]\n",
    "            continue\n",
    "        prev_col = DP[j-1]\n",
    "        \n",
    "        DP[j] = min(prev_col, DP[j]) + grid[i][j]"
   ]
  },
  {
   "cell_type": "code",
   "execution_count": 37,
   "id": "845870c2",
   "metadata": {},
   "outputs": [
    {
     "data": {
      "text/plain": [
       "7"
      ]
     },
     "execution_count": 37,
     "metadata": {},
     "output_type": "execute_result"
    }
   ],
   "source": [
    "DP[n-1]"
   ]
  },
  {
   "cell_type": "code",
   "execution_count": null,
   "id": "41315960",
   "metadata": {},
   "outputs": [],
   "source": []
  }
 ],
 "metadata": {
  "kernelspec": {
   "display_name": "llama3_ft",
   "language": "python",
   "name": "python3"
  },
  "language_info": {
   "codemirror_mode": {
    "name": "ipython",
    "version": 3
   },
   "file_extension": ".py",
   "mimetype": "text/x-python",
   "name": "python",
   "nbconvert_exporter": "python",
   "pygments_lexer": "ipython3",
   "version": "3.10.16"
  }
 },
 "nbformat": 4,
 "nbformat_minor": 5
}
