{
 "cells": [
  {
   "cell_type": "code",
   "execution_count": 20,
   "id": "acab4152",
   "metadata": {},
   "outputs": [],
   "source": [
    "class Solution:\n",
    "    def minDistance(self, word1: str, word2: str) -> int:\n",
    "        n = len(word1)\n",
    "        k = len(word2)\n",
    "\n",
    "        DP = [[0 for _ in range(k+1)] for _ in range(n+1)]\n",
    "        \n",
    "        for i in range(k+1):\n",
    "            DP[0][i] = i\n",
    "        for i in range(n+1):\n",
    "            DP[i][0] = i\n",
    "        \n",
    "        for i in range(1,n+1):\n",
    "            for j in range(1,k+1):\n",
    "                if word1[i-1] == word2[j-1]:\n",
    "                    DP[i][j] = DP[i-1][j-1]\n",
    "                else:\n",
    "                    DP[i][j] = 1 + min(\n",
    "                        DP[i-1][j], DP[i][j-1]\n",
    "                    )\n",
    "        return DP[n][k]"
   ]
  },
  {
   "cell_type": "code",
   "execution_count": 21,
   "id": "ff3fadda",
   "metadata": {},
   "outputs": [],
   "source": [
    "sol = Solution()"
   ]
  },
  {
   "cell_type": "code",
   "execution_count": 22,
   "id": "62a4f0cf",
   "metadata": {},
   "outputs": [
    {
     "name": "stdout",
     "output_type": "stream",
     "text": [
      "2\n"
     ]
    }
   ],
   "source": [
    "word1 = \"sea\"\n",
    "word2 = \"eat\"\n",
    "print(sol.minDistance(word1,word2))"
   ]
  },
  {
   "cell_type": "code",
   "execution_count": 23,
   "id": "609e708d",
   "metadata": {},
   "outputs": [],
   "source": [
    "n = len(word1)\n",
    "k = len(word2)\n",
    "\n",
    "DP = [[0 for _ in range(k+1)] for _ in range(n+1)]"
   ]
  },
  {
   "cell_type": "code",
   "execution_count": 15,
   "id": "e9831cd8",
   "metadata": {},
   "outputs": [],
   "source": [
    "for i in range(k+1):\n",
    "    DP[0][i] = i\n",
    "for i in range(n+1):\n",
    "    DP[i][0] = i"
   ]
  },
  {
   "cell_type": "code",
   "execution_count": 16,
   "id": "fdbeda50",
   "metadata": {},
   "outputs": [
    {
     "data": {
      "text/plain": [
       "[[0, 1, 2, 3], [1, 0, 0, 0], [2, 0, 0, 0], [3, 0, 0, 0]]"
      ]
     },
     "execution_count": 16,
     "metadata": {},
     "output_type": "execute_result"
    }
   ],
   "source": [
    "DP"
   ]
  },
  {
   "cell_type": "code",
   "execution_count": 17,
   "id": "008a0f69",
   "metadata": {},
   "outputs": [],
   "source": [
    "for i in range(1,n+1):\n",
    "    for j in range(1,k+1):\n",
    "        if word1[i-1] == word2[j-1]:\n",
    "            DP[i][j] = DP[i-1][j-1]\n",
    "        else:\n",
    "            DP[i][j] = 1 + min(\n",
    "                DP[i-1][j], DP[i][j-1]\n",
    "            )"
   ]
  },
  {
   "cell_type": "code",
   "execution_count": 19,
   "id": "c2551ae1",
   "metadata": {},
   "outputs": [
    {
     "data": {
      "text/plain": [
       "2"
      ]
     },
     "execution_count": 19,
     "metadata": {},
     "output_type": "execute_result"
    }
   ],
   "source": [
    "DP[n][k]"
   ]
  },
  {
   "cell_type": "code",
   "execution_count": null,
   "id": "9467942e",
   "metadata": {},
   "outputs": [],
   "source": []
  }
 ],
 "metadata": {
  "kernelspec": {
   "display_name": "llama3_ft",
   "language": "python",
   "name": "python3"
  },
  "language_info": {
   "codemirror_mode": {
    "name": "ipython",
    "version": 3
   },
   "file_extension": ".py",
   "mimetype": "text/x-python",
   "name": "python",
   "nbconvert_exporter": "python",
   "pygments_lexer": "ipython3",
   "version": "3.10.16"
  }
 },
 "nbformat": 4,
 "nbformat_minor": 5
}
