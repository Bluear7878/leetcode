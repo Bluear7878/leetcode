{
 "cells": [
  {
   "cell_type": "code",
   "execution_count": 1,
   "id": "2ad593c6",
   "metadata": {},
   "outputs": [],
   "source": [
    "from typing import List"
   ]
  },
  {
   "cell_type": "code",
   "execution_count": 33,
   "id": "dde63099",
   "metadata": {},
   "outputs": [],
   "source": [
    "class Solution:\n",
    "    def uniquePathsWithObstacles(self, obstacleGrid: List[List[int]]) -> int:\n",
    "        m = len(obstacleGrid)\n",
    "        n = len(obstacleGrid[0])\n",
    "        DP = [0 for _ in range(n)]\n",
    "        DP[0] = 1\n",
    "\n",
    "        for i in range(m):\n",
    "            for j in range(n):\n",
    "                if obstacleGrid[i][j]==1:\n",
    "                    DP[j]=0\n",
    "                else:\n",
    "                    if j==0:\n",
    "                        prev = 0\n",
    "                    else:\n",
    "                        prev = DP[j-1]\n",
    "                    DP[j] = prev + DP[j]\n",
    "        return DP[n-1]"
   ]
  },
  {
   "cell_type": "code",
   "execution_count": 34,
   "id": "9d742d77",
   "metadata": {},
   "outputs": [],
   "source": [
    "sol = Solution()"
   ]
  },
  {
   "cell_type": "code",
   "execution_count": 35,
   "id": "96063566",
   "metadata": {},
   "outputs": [
    {
     "name": "stdout",
     "output_type": "stream",
     "text": [
      "2\n"
     ]
    }
   ],
   "source": [
    "obstacleGrid = [[0,0,0],[0,1,0],[0,0,0]]\n",
    "print(sol.uniquePathsWithObstacles(obstacleGrid))"
   ]
  },
  {
   "cell_type": "code",
   "execution_count": 36,
   "id": "d4152ff4",
   "metadata": {},
   "outputs": [
    {
     "name": "stdout",
     "output_type": "stream",
     "text": [
      "11\n"
     ]
    }
   ],
   "source": [
    "obstacleGrid = [[0,0,0,0],[0,0,1,0],[0,0,0,0],[0,0,0,0]]\n",
    "print(sol.uniquePathsWithObstacles(obstacleGrid))"
   ]
  },
  {
   "cell_type": "code",
   "execution_count": 29,
   "id": "00736c93",
   "metadata": {},
   "outputs": [],
   "source": [
    "m = len(obstacleGrid)\n",
    "n = len(obstacleGrid[0])\n",
    "DP = [0 for _ in range(n)]\n",
    "DP[0] = 1\n",
    "\n",
    "for i in range(m):\n",
    "    for j in range(n):\n",
    "        if obstacleGrid[i][j]==1:\n",
    "            DP[j]=0\n",
    "        else:\n",
    "            if j==0:\n",
    "                prev = 0\n",
    "            else:\n",
    "                prev = DP[j-1]\n",
    "            DP[j] = prev + DP[j]"
   ]
  },
  {
   "cell_type": "code",
   "execution_count": 32,
   "id": "ae29d0af",
   "metadata": {},
   "outputs": [
    {
     "data": {
      "text/plain": [
       "11"
      ]
     },
     "execution_count": 32,
     "metadata": {},
     "output_type": "execute_result"
    }
   ],
   "source": [
    "DP[n-1]"
   ]
  },
  {
   "cell_type": "code",
   "execution_count": null,
   "id": "c773ff71",
   "metadata": {},
   "outputs": [],
   "source": []
  }
 ],
 "metadata": {
  "kernelspec": {
   "display_name": "llama3_ft",
   "language": "python",
   "name": "python3"
  },
  "language_info": {
   "codemirror_mode": {
    "name": "ipython",
    "version": 3
   },
   "file_extension": ".py",
   "mimetype": "text/x-python",
   "name": "python",
   "nbconvert_exporter": "python",
   "pygments_lexer": "ipython3",
   "version": "3.10.16"
  }
 },
 "nbformat": 4,
 "nbformat_minor": 5
}
