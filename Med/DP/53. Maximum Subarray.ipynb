{
 "cells": [
  {
   "cell_type": "markdown",
   "id": "baabc0fc",
   "metadata": {},
   "source": [
    "https://leetcode.com/problems/maximum-subarray/"
   ]
  },
  {
   "cell_type": "code",
   "execution_count": 24,
   "id": "6a1fb5f8",
   "metadata": {},
   "outputs": [],
   "source": [
    "from typing import List\n",
    "class Solution:\n",
    "    def maxSubArray(self, nums: List[int]) -> int:\n",
    "        DP = [nums[0]]\n",
    "        res = DP[0]\n",
    "        n = len(nums)\n",
    "        for i in range(1,n):\n",
    "            if DP[i-1]+nums[i] > nums[i]:\n",
    "                DP.append(DP[i-1]+nums[i])\n",
    "            else:\n",
    "                DP.append(nums[i])\n",
    "            \n",
    "            if DP[i]>res:\n",
    "                res = DP[i]\n",
    "        return res"
   ]
  },
  {
   "cell_type": "code",
   "execution_count": 25,
   "id": "ce1e7ff5",
   "metadata": {},
   "outputs": [],
   "source": [
    "sol = Solution()"
   ]
  },
  {
   "cell_type": "code",
   "execution_count": 26,
   "id": "75f9e259",
   "metadata": {},
   "outputs": [
    {
     "name": "stdout",
     "output_type": "stream",
     "text": [
      "6\n"
     ]
    }
   ],
   "source": [
    "nums = [-2,1,-3,4,-1,2,1,-5,4]\n",
    "print(sol.maxSubArray(nums)) ## Output : 6"
   ]
  },
  {
   "cell_type": "code",
   "execution_count": 27,
   "id": "f710f90d",
   "metadata": {},
   "outputs": [
    {
     "name": "stdout",
     "output_type": "stream",
     "text": [
      "1\n"
     ]
    }
   ],
   "source": [
    "nums = [1]\n",
    "print(sol.maxSubArray(nums)) ## Output : 1"
   ]
  },
  {
   "cell_type": "code",
   "execution_count": 28,
   "id": "dda3f7f3",
   "metadata": {},
   "outputs": [
    {
     "name": "stdout",
     "output_type": "stream",
     "text": [
      "23\n"
     ]
    }
   ],
   "source": [
    "nums = [5,4,-1,7,8]\n",
    "print(sol.maxSubArray(nums)) ## Output : 23"
   ]
  },
  {
   "cell_type": "code",
   "execution_count": 12,
   "id": "8f8f4f1a",
   "metadata": {},
   "outputs": [
    {
     "data": {
      "text/plain": [
       "10000"
      ]
     },
     "execution_count": 12,
     "metadata": {},
     "output_type": "execute_result"
    }
   ],
   "source": [
    "10**4"
   ]
  },
  {
   "cell_type": "code",
   "execution_count": 17,
   "id": "d09b9063",
   "metadata": {},
   "outputs": [],
   "source": [
    "res = -10**4-1\n",
    "DP = [nums[0]]\n",
    "n = len(nums)\n",
    "for i in range(1,n):\n",
    "    if DP[i-1]+nums[i] > nums[i]:\n",
    "        DP.append(DP[i-1]+nums[i])\n",
    "    else:\n",
    "        DP.append(nums[i])\n",
    "    \n",
    "    if DP[i]>res:\n",
    "        res = DP[i]"
   ]
  },
  {
   "cell_type": "code",
   "execution_count": 18,
   "id": "1ba7ff36",
   "metadata": {},
   "outputs": [
    {
     "data": {
      "text/plain": [
       "23"
      ]
     },
     "execution_count": 18,
     "metadata": {},
     "output_type": "execute_result"
    }
   ],
   "source": [
    "res"
   ]
  },
  {
   "cell_type": "code",
   "execution_count": null,
   "id": "3bf70463",
   "metadata": {},
   "outputs": [],
   "source": []
  }
 ],
 "metadata": {
  "kernelspec": {
   "display_name": "llama3_ft",
   "language": "python",
   "name": "python3"
  },
  "language_info": {
   "codemirror_mode": {
    "name": "ipython",
    "version": 3
   },
   "file_extension": ".py",
   "mimetype": "text/x-python",
   "name": "python",
   "nbconvert_exporter": "python",
   "pygments_lexer": "ipython3",
   "version": "3.10.16"
  }
 },
 "nbformat": 4,
 "nbformat_minor": 5
}
