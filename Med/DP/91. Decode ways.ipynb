{
 "cells": [
  {
   "cell_type": "code",
   "execution_count": 94,
   "id": "d87d2062",
   "metadata": {},
   "outputs": [],
   "source": [
    "class Solution:\n",
    "    def numDecodings(self, s: str) -> int:\n",
    "        n = len(s)\n",
    "        DP = [0 for _ in range(n+2)]\n",
    "        DP[0] = 1\n",
    "        if s[0] == '0':\n",
    "            DP[1] = 0\n",
    "        else:\n",
    "            DP[1] = 1\n",
    "\n",
    "        for i in range(2,n+1):\n",
    "            sub_s = s[i-2:i]\n",
    "            if sub_s >= '10' and sub_s <= '26':\n",
    "                if s[i-1] != '0':\n",
    "                    DP[i] = DP[i-1] + DP[i-2]\n",
    "                else:\n",
    "                    DP[i] = DP[i-2]\n",
    "            elif sub_s == '00':\n",
    "                DP[i] = 0\n",
    "            else:\n",
    "                if s[i-1] == '0':\n",
    "                    DP[i] = 0\n",
    "                else:\n",
    "                    DP[i] = DP[i-1]\n",
    "        return DP[n]"
   ]
  },
  {
   "cell_type": "code",
   "execution_count": 95,
   "id": "ca2f0c35",
   "metadata": {},
   "outputs": [],
   "source": [
    "sol = Solution()"
   ]
  },
  {
   "cell_type": "code",
   "execution_count": 96,
   "id": "51df006b",
   "metadata": {},
   "outputs": [
    {
     "name": "stdout",
     "output_type": "stream",
     "text": [
      "0\n"
     ]
    }
   ],
   "source": [
    "s = \"230\"\n",
    "print(sol.numDecodings(s))"
   ]
  },
  {
   "cell_type": "code",
   "execution_count": 97,
   "id": "05b487fa",
   "metadata": {},
   "outputs": [
    {
     "name": "stdout",
     "output_type": "stream",
     "text": [
      "1\n"
     ]
    }
   ],
   "source": [
    "s = \"10\"\n",
    "print(sol.numDecodings(s))"
   ]
  },
  {
   "cell_type": "code",
   "execution_count": 56,
   "id": "d687a3e0",
   "metadata": {},
   "outputs": [],
   "source": [
    "s = \"06\""
   ]
  },
  {
   "cell_type": "code",
   "execution_count": 57,
   "id": "676d2326",
   "metadata": {},
   "outputs": [],
   "source": [
    "n = len(s)\n",
    "DP = [0 for _ in range(n+2)]"
   ]
  },
  {
   "cell_type": "code",
   "execution_count": 58,
   "id": "34385d7e",
   "metadata": {},
   "outputs": [],
   "source": [
    "DP[1] = 1"
   ]
  },
  {
   "cell_type": "code",
   "execution_count": 59,
   "id": "ebb4821b",
   "metadata": {},
   "outputs": [],
   "source": [
    "if s[:2] >= '10' and s[:2] <= '26':\n",
    "    DP[2] = 2"
   ]
  },
  {
   "cell_type": "code",
   "execution_count": 60,
   "id": "64e3c033",
   "metadata": {},
   "outputs": [],
   "source": [
    "for i in range(3,n+1):\n",
    "    if s[i-2:i] >= '10' and s[i-2:i] <= '26':\n",
    "        if s[i-1] != '0':\n",
    "            DP[i] = DP[i-1] + DP[i-2]\n",
    "        else:\n",
    "            DP[i] = DP[i-2]\n",
    "    else:\n",
    "        DP[i] = DP[i-1]"
   ]
  },
  {
   "cell_type": "code",
   "execution_count": 64,
   "id": "b9029cdb",
   "metadata": {},
   "outputs": [
    {
     "data": {
      "text/plain": [
       "[0, 1, 0, 0]"
      ]
     },
     "execution_count": 64,
     "metadata": {},
     "output_type": "execute_result"
    }
   ],
   "source": [
    "DP"
   ]
  },
  {
   "cell_type": "code",
   "execution_count": 65,
   "id": "5f0e54a2",
   "metadata": {},
   "outputs": [
    {
     "data": {
      "text/plain": [
       "2"
      ]
     },
     "execution_count": 65,
     "metadata": {},
     "output_type": "execute_result"
    }
   ],
   "source": [
    "n"
   ]
  },
  {
   "cell_type": "code",
   "execution_count": null,
   "id": "5bd1fef7",
   "metadata": {},
   "outputs": [],
   "source": []
  }
 ],
 "metadata": {
  "kernelspec": {
   "display_name": "llama3_ft",
   "language": "python",
   "name": "python3"
  },
  "language_info": {
   "codemirror_mode": {
    "name": "ipython",
    "version": 3
   },
   "file_extension": ".py",
   "mimetype": "text/x-python",
   "name": "python",
   "nbconvert_exporter": "python",
   "pygments_lexer": "ipython3",
   "version": "3.10.16"
  }
 },
 "nbformat": 4,
 "nbformat_minor": 5
}
