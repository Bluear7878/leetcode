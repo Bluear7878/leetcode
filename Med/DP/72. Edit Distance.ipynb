{
 "cells": [
  {
   "cell_type": "code",
   "execution_count": null,
   "id": "80430cdd",
   "metadata": {},
   "outputs": [],
   "source": [
    "class Solution:\n",
    "    def minDistance(self, word1: str, word2: str) -> int:\n",
    "        n = len(word1)\n",
    "        k = len(word2)\n",
    "\n",
    "        DP = [[0 for _ in range(k+1)] for _ in range(n+1)]\n",
    "        \n",
    "        for i in range(k+1):\n",
    "            DP[0][i] = i\n",
    "        for i in range(n+1):\n",
    "            DP[i][0] = i\n",
    "        \n",
    "        for i in range(1,n+1):\n",
    "            for j in range(1,k+1):\n",
    "                if word1[i-1] == word2[j-1]:\n",
    "                    DP[i][j] = DP[i-1][j-1]\n",
    "                else:\n",
    "                    DP[i][j] = 1 + min(DP[i-1][j-1], #replace\n",
    "                                    DP[i-1][j], #insert\n",
    "                                    DP[i][j-1] #Delete\n",
    "                                    )\n",
    "        return DP[n][k]\n",
    "        \n",
    "    def eneff_minDistance(self, word1: str, word2: str) -> int:\n",
    "        res = 0\n",
    "        char = set(word2)\n",
    "        candi_set = [word1]\n",
    "        while True:\n",
    "            while len(candi_set)>0:\n",
    "                word = candi_set.pop(0)\n",
    "                \n",
    "                if word == word2:\n",
    "                    return res\n",
    "                \n",
    "                #replace\n",
    "                for i,w in enumerate(word):\n",
    "                    for c in char:\n",
    "                        temp_word = word[:i] + c + word[i+1:]\n",
    "                        candi_set.append(temp_word)\n",
    "                \n",
    "                #remove\n",
    "                for i,w in enumerate(word):\n",
    "                    temp_word = word[:i] + word[i+1:]\n",
    "                    candi_set.append(temp_word)\n",
    "                #insert\n",
    "                for i,w in enumerate(word):\n",
    "                    for c in char:\n",
    "                        temp_word = word[:i] + c + word[i:]\n",
    "                        candi_set.append(temp_word)\n",
    "                    \n",
    "            res += 1"
   ]
  },
  {
   "cell_type": "code",
   "execution_count": 45,
   "id": "24a49006",
   "metadata": {},
   "outputs": [],
   "source": [
    "sol = Solution()"
   ]
  },
  {
   "cell_type": "code",
   "execution_count": 46,
   "id": "6b13f090",
   "metadata": {},
   "outputs": [
    {
     "name": "stdout",
     "output_type": "stream",
     "text": [
      "0\n"
     ]
    }
   ],
   "source": [
    "word1 = \"horse\"\n",
    "word2 = \"ros\"\n",
    "print(sol.minDistance(word1,word2))"
   ]
  },
  {
   "cell_type": "code",
   "execution_count": 48,
   "id": "04777c14",
   "metadata": {},
   "outputs": [
    {
     "ename": "KeyboardInterrupt",
     "evalue": "",
     "output_type": "error",
     "traceback": [
      "\u001b[0;31m---------------------------------------------------------------------------\u001b[0m",
      "\u001b[0;31mKeyboardInterrupt\u001b[0m                         Traceback (most recent call last)",
      "Cell \u001b[0;32mIn[48], line 3\u001b[0m\n\u001b[1;32m      1\u001b[0m word1 \u001b[38;5;241m=\u001b[39m \u001b[38;5;124m\"\u001b[39m\u001b[38;5;124mintention\u001b[39m\u001b[38;5;124m\"\u001b[39m\n\u001b[1;32m      2\u001b[0m word2 \u001b[38;5;241m=\u001b[39m \u001b[38;5;124m\"\u001b[39m\u001b[38;5;124mexecution\u001b[39m\u001b[38;5;124m\"\u001b[39m\n\u001b[0;32m----> 3\u001b[0m \u001b[38;5;28mprint\u001b[39m(\u001b[43msol\u001b[49m\u001b[38;5;241;43m.\u001b[39;49m\u001b[43mminDistance\u001b[49m\u001b[43m(\u001b[49m\u001b[43mword1\u001b[49m\u001b[43m,\u001b[49m\u001b[43mword2\u001b[49m\u001b[43m)\u001b[49m)\n",
      "Cell \u001b[0;32mIn[44], line 8\u001b[0m, in \u001b[0;36mSolution.minDistance\u001b[0;34m(self, word1, word2)\u001b[0m\n\u001b[1;32m      6\u001b[0m \u001b[38;5;28;01mwhile\u001b[39;00m \u001b[38;5;28;01mTrue\u001b[39;00m:\n\u001b[1;32m      7\u001b[0m     \u001b[38;5;28;01mwhile\u001b[39;00m \u001b[38;5;28mlen\u001b[39m(candi_set)\u001b[38;5;241m>\u001b[39m\u001b[38;5;241m0\u001b[39m:\n\u001b[0;32m----> 8\u001b[0m         word \u001b[38;5;241m=\u001b[39m \u001b[43mcandi_set\u001b[49m\u001b[38;5;241;43m.\u001b[39;49m\u001b[43mpop\u001b[49m\u001b[43m(\u001b[49m\u001b[38;5;241;43m0\u001b[39;49m\u001b[43m)\u001b[49m\n\u001b[1;32m     10\u001b[0m         \u001b[38;5;28;01mif\u001b[39;00m word \u001b[38;5;241m==\u001b[39m word2:\n\u001b[1;32m     11\u001b[0m             \u001b[38;5;28;01mreturn\u001b[39;00m res\n",
      "\u001b[0;31mKeyboardInterrupt\u001b[0m: "
     ]
    }
   ],
   "source": [
    "word1 = \"intention\"\n",
    "word2 = \"execution\"\n",
    "print(sol.minDistance(word1,word2))"
   ]
  },
  {
   "cell_type": "code",
   "execution_count": 76,
   "id": "7fd24e3a",
   "metadata": {},
   "outputs": [],
   "source": [
    "word1 = \"intention\"\n",
    "word2 = \"execution\""
   ]
  },
  {
   "cell_type": "code",
   "execution_count": 86,
   "id": "93cfa98d",
   "metadata": {},
   "outputs": [],
   "source": [
    "word1 = \"horse\"\n",
    "word2 = \"ros\""
   ]
  },
  {
   "cell_type": "code",
   "execution_count": 87,
   "id": "0a163ca6",
   "metadata": {},
   "outputs": [],
   "source": [
    "n = len(word1)\n",
    "k = len(word2)\n",
    "\n",
    "DP = [[0 for _ in range(k+1)] for _ in range(n+1)]"
   ]
  },
  {
   "cell_type": "code",
   "execution_count": 88,
   "id": "c1e2a216",
   "metadata": {},
   "outputs": [],
   "source": [
    "for i in range(k+1):\n",
    "    DP[0][i] = i\n",
    "for i in range(n+1):\n",
    "    DP[i][0] = i"
   ]
  },
  {
   "cell_type": "code",
   "execution_count": 89,
   "id": "9be81942",
   "metadata": {},
   "outputs": [
    {
     "data": {
      "text/plain": [
       "[[0, 1, 2, 3],\n",
       " [1, 0, 0, 0],\n",
       " [2, 0, 0, 0],\n",
       " [3, 0, 0, 0],\n",
       " [4, 0, 0, 0],\n",
       " [5, 0, 0, 0]]"
      ]
     },
     "execution_count": 89,
     "metadata": {},
     "output_type": "execute_result"
    }
   ],
   "source": [
    "DP"
   ]
  },
  {
   "cell_type": "code",
   "execution_count": 90,
   "id": "3e6a1cff",
   "metadata": {},
   "outputs": [],
   "source": [
    "for i in range(1,n+1):\n",
    "    for j in range(1,k+1):\n",
    "        if word1[i-1] == word2[j-1]:\n",
    "            DP[i][j] = DP[i-1][j-1]\n",
    "        else:\n",
    "            DP[i][j] = 1 + min(DP[i-1][j-1], #replace\n",
    "                            DP[i-1][j], #insert\n",
    "                            DP[i][j-1] #Delete\n",
    "                            )"
   ]
  },
  {
   "cell_type": "code",
   "execution_count": 92,
   "id": "c9450478",
   "metadata": {},
   "outputs": [
    {
     "data": {
      "text/plain": [
       "3"
      ]
     },
     "execution_count": 92,
     "metadata": {},
     "output_type": "execute_result"
    }
   ],
   "source": [
    "DP[n][k]"
   ]
  },
  {
   "cell_type": "code",
   "execution_count": null,
   "id": "70e6efd0",
   "metadata": {},
   "outputs": [],
   "source": []
  }
 ],
 "metadata": {
  "kernelspec": {
   "display_name": "llama3_ft",
   "language": "python",
   "name": "python3"
  },
  "language_info": {
   "codemirror_mode": {
    "name": "ipython",
    "version": 3
   },
   "file_extension": ".py",
   "mimetype": "text/x-python",
   "name": "python",
   "nbconvert_exporter": "python",
   "pygments_lexer": "ipython3",
   "version": "3.10.16"
  }
 },
 "nbformat": 4,
 "nbformat_minor": 5
}
