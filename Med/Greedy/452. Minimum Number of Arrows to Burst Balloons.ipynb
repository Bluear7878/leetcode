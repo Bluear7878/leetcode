{
 "cells": [
  {
   "cell_type": "code",
   "execution_count": 74,
   "id": "710fc567",
   "metadata": {},
   "outputs": [],
   "source": [
    "from typing import List\n",
    "class Solution:\n",
    "    def wrong_findMinArrowShots(self, points: List[List[int]]) -> int:\n",
    "        sorted_points = sorted(points, key=lambda x: x[0])\n",
    "        shot = 1\n",
    "        idx = sorted_points[0]\n",
    "        for bal in sorted_points[1:]:\n",
    "            if bal[0] <= idx[1]:\n",
    "                continue\n",
    "            else:\n",
    "                shot+=1\n",
    "                idx = bal\n",
    "        return shot\n",
    "    def findMinArrowShots(self, points: List[List[int]]) -> int:\n",
    "        sorted_points = sorted(points, key=lambda x: x[1])\n",
    "        shot = 1\n",
    "        idx = sorted_points[0]\n",
    "        for bal in sorted_points[1:]:\n",
    "            if bal[0] <= idx[1]:\n",
    "                continue\n",
    "            else:\n",
    "                shot+=1\n",
    "                idx = bal\n",
    "        return shot\n",
    "    \n",
    "    def clean_findMinArrowShots(self, points: List[List[int]]) -> int:\n",
    "        if not points:\n",
    "            return 0\n",
    "        \n",
    "        points.sort(key=lambda x: x[1])\n",
    "        \n",
    "        shot = 1\n",
    "        \n",
    "        arrow_pos = points[0][1]\n",
    "        \n",
    "        for bal in points[1:]:\n",
    "            if bal[0] > arrow_pos:\n",
    "                shot +=1\n",
    "                arrow_pos = bal[1]\n",
    "                \n",
    "        return shot"
   ]
  },
  {
   "cell_type": "code",
   "execution_count": 68,
   "id": "35de9a94",
   "metadata": {},
   "outputs": [],
   "source": [
    "points = [[10,16],[2,8],[1,6],[7,12]]\n",
    "#points = [[1,2],[3,4],[5,6],[7,8]]\n",
    "#points = [[1,2],[2,3],[3,4],[4,5]]\n",
    "#points = [[3,9],[7,12],[3,8],[6,8],[9,10],[2,9],[0,9],[3,9],[0,6],[2,8]]"
   ]
  },
  {
   "cell_type": "code",
   "execution_count": 69,
   "id": "59441add",
   "metadata": {},
   "outputs": [],
   "source": [
    "sorted_points = sorted(points, key=lambda x: x[1])"
   ]
  },
  {
   "cell_type": "code",
   "execution_count": 70,
   "id": "f6cd3435",
   "metadata": {},
   "outputs": [
    {
     "data": {
      "text/plain": [
       "[[1, 6], [2, 8], [7, 12], [10, 16]]"
      ]
     },
     "execution_count": 70,
     "metadata": {},
     "output_type": "execute_result"
    }
   ],
   "source": [
    "sorted_points"
   ]
  },
  {
   "cell_type": "code",
   "execution_count": 71,
   "id": "da6fa7df",
   "metadata": {},
   "outputs": [],
   "source": [
    "shot = 1\n",
    "idx = sorted_points[0]\n",
    "for bal in sorted_points[1:]:\n",
    "    if bal[0] <= idx[1]:\n",
    "        continue\n",
    "    else:\n",
    "        shot+=1\n",
    "        idx = bal"
   ]
  },
  {
   "cell_type": "code",
   "execution_count": 72,
   "id": "db114065",
   "metadata": {},
   "outputs": [
    {
     "data": {
      "text/plain": [
       "2"
      ]
     },
     "execution_count": 72,
     "metadata": {},
     "output_type": "execute_result"
    }
   ],
   "source": [
    "shot"
   ]
  },
  {
   "cell_type": "code",
   "execution_count": null,
   "id": "773cdcc9",
   "metadata": {},
   "outputs": [],
   "source": []
  }
 ],
 "metadata": {
  "kernelspec": {
   "display_name": "nunchaku_dreamO",
   "language": "python",
   "name": "python3"
  },
  "language_info": {
   "codemirror_mode": {
    "name": "ipython",
    "version": 3
   },
   "file_extension": ".py",
   "mimetype": "text/x-python",
   "name": "python",
   "nbconvert_exporter": "python",
   "pygments_lexer": "ipython3",
   "version": "3.11.11"
  }
 },
 "nbformat": 4,
 "nbformat_minor": 5
}
