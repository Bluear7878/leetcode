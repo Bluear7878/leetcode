{
 "cells": [
  {
   "cell_type": "code",
   "execution_count": null,
   "id": "d24617db",
   "metadata": {},
   "outputs": [],
   "source": [
    "from typing import List\n",
    "class LargerNumKey(str):\n",
    "    def __lt__(self, other):\n",
    "        return self + other < other + self\n",
    "    \n",
    "class Solution:\n",
    "    def largestNumber(self, nums: List[int]) -> str:\n",
    "        sorted_str = sorted(\n",
    "            map(str,nums),\n",
    "            key=LargerNumKey,\n",
    "            reverse=True\n",
    "        )\n",
    "        \n",
    "        result = \"\".join(sorted_str)\n",
    "        return str(int(result))"
   ]
  },
  {
   "cell_type": "code",
   "execution_count": 12,
   "id": "bda5736e",
   "metadata": {},
   "outputs": [
    {
     "name": "stdout",
     "output_type": "stream",
     "text": [
      "9534330\n"
     ]
    }
   ],
   "source": [
    "nums = [3, 30, 34, 5, 9]\n",
    "\n",
    "sol = Solution()\n",
    "\n",
    "print(sol.largestNumber(nums))"
   ]
  },
  {
   "cell_type": "code",
   "execution_count": 4,
   "id": "82635a19",
   "metadata": {},
   "outputs": [],
   "source": [
    "sorted_nums = sorted(nums, key=str, reverse=True)"
   ]
  },
  {
   "cell_type": "code",
   "execution_count": 5,
   "id": "45061d57",
   "metadata": {},
   "outputs": [
    {
     "name": "stdout",
     "output_type": "stream",
     "text": [
      "[9, 5, 34, 30, 3]\n"
     ]
    }
   ],
   "source": [
    "print(sorted_nums)"
   ]
  }
 ],
 "metadata": {
  "kernelspec": {
   "display_name": "nunchaku_dreamO",
   "language": "python",
   "name": "python3"
  },
  "language_info": {
   "codemirror_mode": {
    "name": "ipython",
    "version": 3
   },
   "file_extension": ".py",
   "mimetype": "text/x-python",
   "name": "python",
   "nbconvert_exporter": "python",
   "pygments_lexer": "ipython3",
   "version": "3.11.11"
  }
 },
 "nbformat": 4,
 "nbformat_minor": 5
}
