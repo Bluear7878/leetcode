{
 "cells": [
  {
   "cell_type": "code",
   "execution_count": 15,
   "id": "6333da60",
   "metadata": {},
   "outputs": [],
   "source": [
    "from typing import List\n",
    "\n",
    "class Solution:\n",
    "    def naive_maxArea(self, height: List[int]) -> int:\n",
    "        ans = -1\n",
    "        for i in range(len(height)-1):\n",
    "            for j in range(i+1,len(height)):\n",
    "                h = min(height[i],height[j])\n",
    "                w = j - i\n",
    "                \n",
    "                ans = max(ans, h*w)\n",
    "        return ans\n",
    "    def maxArea(self, height: List[int]) -> int:\n",
    "        ans = -1\n",
    "\n",
    "        i = 0\n",
    "        j = len(height)-1\n",
    "\n",
    "        while i<j:\n",
    "            h = min(height[i],height[j])\n",
    "            w = j - i\n",
    "            ans = max(ans, h*w)\n",
    "            \n",
    "            if height[i] < height[j]:\n",
    "                i = i +1\n",
    "            else:\n",
    "                j = j - 1\n",
    "        return ans"
   ]
  },
  {
   "cell_type": "code",
   "execution_count": 10,
   "id": "58cedfa9",
   "metadata": {},
   "outputs": [],
   "source": [
    "height = [1,8,6,2,5,4,8,3,7]"
   ]
  },
  {
   "cell_type": "code",
   "execution_count": 11,
   "id": "f85c6008",
   "metadata": {},
   "outputs": [
    {
     "name": "stdout",
     "output_type": "stream",
     "text": [
      "49\n"
     ]
    }
   ],
   "source": [
    "sol = Solution()\n",
    "print(sol.maxArea(height))"
   ]
  },
  {
   "cell_type": "code",
   "execution_count": null,
   "id": "633f94a8",
   "metadata": {},
   "outputs": [
    {
     "name": "stdout",
     "output_type": "stream",
     "text": [
      "49\n"
     ]
    }
   ],
   "source": [
    "ans = -1\n",
    "for i in range(len(height)-1):\n",
    "    for j in range(i+1,len(height)):\n",
    "        h = min(height[i],height[j])\n",
    "        w = j - i\n",
    "        \n",
    "        ans = max(ans, h*w)\n",
    "print(ans)"
   ]
  },
  {
   "cell_type": "code",
   "execution_count": 13,
   "id": "956963a0",
   "metadata": {},
   "outputs": [],
   "source": [
    "ans = -1\n",
    "\n",
    "i = 0\n",
    "j = len(height)-1\n",
    "\n",
    "while i<j:\n",
    "    h = min(height[i],height[j])\n",
    "    w = j - i\n",
    "    ans = max(ans, h*w)\n",
    "    \n",
    "    if height[i] < height[j]:\n",
    "        i = i +1\n",
    "    else:\n",
    "        j = j - 1"
   ]
  },
  {
   "cell_type": "code",
   "execution_count": 14,
   "id": "3027d413",
   "metadata": {},
   "outputs": [
    {
     "name": "stdout",
     "output_type": "stream",
     "text": [
      "49\n"
     ]
    }
   ],
   "source": [
    "print(ans)"
   ]
  },
  {
   "cell_type": "code",
   "execution_count": null,
   "id": "3a1305c9",
   "metadata": {},
   "outputs": [],
   "source": []
  }
 ],
 "metadata": {
  "kernelspec": {
   "display_name": "nunchaku_dreamO",
   "language": "python",
   "name": "python3"
  },
  "language_info": {
   "codemirror_mode": {
    "name": "ipython",
    "version": 3
   },
   "file_extension": ".py",
   "mimetype": "text/x-python",
   "name": "python",
   "nbconvert_exporter": "python",
   "pygments_lexer": "ipython3",
   "version": "3.11.11"
  }
 },
 "nbformat": 4,
 "nbformat_minor": 5
}
