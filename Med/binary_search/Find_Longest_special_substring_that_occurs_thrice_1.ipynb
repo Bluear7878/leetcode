{
 "cells": [
  {
   "cell_type": "code",
   "execution_count": null,
   "id": "76a71722",
   "metadata": {},
   "outputs": [],
   "source": [
    "class Solution:\n",
    "    def maximumLength(self, s: str) -> int:\n",
    "        bag = {}\n",
    "        prev_word = '0'\n",
    "        for c in s:\n",
    "            if c not in bag:\n",
    "                bag[c] = []\n",
    "            if prev_word is not c:\n",
    "                prev_word = c\n",
    "                bag[c].append(1)\n",
    "            else:\n",
    "                #앞에꺼랑 같을경우\n",
    "                bag[c][-1] += 1\n",
    "        res = -1\n",
    "        for b in bag:\n",
    "            min_len = 1\n",
    "            max_len = sum(bag[b])\n",
    "            \n",
    "            while(min_len<=max_len):\n",
    "                mid = (max_len + min_len)//2\n",
    "                \n",
    "                num_len = 0\n",
    "                for lss in bag[b]:\n",
    "                    this_lss = lss - mid + 1\n",
    "                    if this_lss > 0:\n",
    "                        num_len += this_lss\n",
    "                if num_len < 3:\n",
    "                    max_len = mid - 1 \n",
    "                else:\n",
    "                    res = max(res,mid)\n",
    "                    min_len = mid + 1\n",
    "                \n",
    "        return res\n",
    "    \n",
    "    def brute_force_maximumLength(self, s: str) -> int:\n",
    "        alpahs = {}\n",
    "        sub_s = '0'\n",
    "        for c in s:\n",
    "            if c not in alpahs:\n",
    "                #본적없음\n",
    "                alpahs[c] = [1,1] #0개, 1개\n",
    "                sub_s = c\n",
    "            else:\n",
    "                if sub_s[-1] == c:\n",
    "                    #이전꺼랑 동일\n",
    "                    sub_s += c\n",
    "                    len_sub_s = len(sub_s)\n",
    "                    if len(alpahs[c]) == len_sub_s:\n",
    "                        #처음본 길이면 추가\n",
    "                        alpahs[c].append(1)\n",
    "                        len_sub_s-=1\n",
    "                    while(len_sub_s>=1):\n",
    "                        alpahs[c][len_sub_s]+=1\n",
    "                        len_sub_s-=1\n",
    "                else:\n",
    "                    #이전꺼랑 달라\n",
    "                    sub_s = c\n",
    "                    alpahs[c][1] +=1\n",
    "        max_index = -1\n",
    "        for lst in alpahs:\n",
    "            alpah = alpahs[lst]\n",
    "            for i in range(len(alpah)-1, -1, -1):\n",
    "                if alpah[i] >=3:\n",
    "                    max_index = max(max_index,i)\n",
    "                    break\n",
    "                \n",
    "        return max_index"
   ]
  },
  {
   "cell_type": "code",
   "execution_count": 15,
   "id": "87bdc3bb",
   "metadata": {},
   "outputs": [],
   "source": [
    "sol = Solution()"
   ]
  },
  {
   "cell_type": "code",
   "execution_count": 16,
   "id": "34d90bff",
   "metadata": {},
   "outputs": [
    {
     "name": "stdout",
     "output_type": "stream",
     "text": [
      "3\n"
     ]
    }
   ],
   "source": [
    "s = \"aabbaaabbcaaabaaa\"\n",
    "print(sol.maximumLength(s))"
   ]
  },
  {
   "cell_type": "code",
   "execution_count": 17,
   "id": "e351eb95",
   "metadata": {},
   "outputs": [
    {
     "name": "stdout",
     "output_type": "stream",
     "text": [
      "2\n"
     ]
    }
   ],
   "source": [
    "s = \"aaaa\"\n",
    "print(sol.maximumLength(s))"
   ]
  },
  {
   "cell_type": "code",
   "execution_count": 18,
   "id": "8e21ae63",
   "metadata": {},
   "outputs": [
    {
     "name": "stdout",
     "output_type": "stream",
     "text": [
      "-1\n"
     ]
    }
   ],
   "source": [
    "s = \"abcdef\"\n",
    "print(sol.maximumLength(s))"
   ]
  },
  {
   "cell_type": "code",
   "execution_count": 19,
   "id": "a3f815b9",
   "metadata": {},
   "outputs": [
    {
     "name": "stdout",
     "output_type": "stream",
     "text": [
      "1\n"
     ]
    }
   ],
   "source": [
    "s = \"abcaba\"\n",
    "print(sol.maximumLength(s))"
   ]
  },
  {
   "cell_type": "code",
   "execution_count": null,
   "id": "7fb7805e",
   "metadata": {},
   "outputs": [],
   "source": []
  }
 ],
 "metadata": {
  "kernelspec": {
   "display_name": "llama3_ft",
   "language": "python",
   "name": "python3"
  },
  "language_info": {
   "codemirror_mode": {
    "name": "ipython",
    "version": 3
   },
   "file_extension": ".py",
   "mimetype": "text/x-python",
   "name": "python",
   "nbconvert_exporter": "python",
   "pygments_lexer": "ipython3",
   "version": "3.10.16"
  }
 },
 "nbformat": 4,
 "nbformat_minor": 5
}
