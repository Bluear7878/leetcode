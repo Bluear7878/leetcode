{
 "cells": [
  {
   "cell_type": "code",
   "execution_count": 9,
   "id": "0da271bf",
   "metadata": {},
   "outputs": [],
   "source": [
    "class Solution:\n",
    "    def lengthOfLongestSubstring(self, s: str) -> int:\n",
    "        last_idx = {}\n",
    "        start_idx = 0\n",
    "        max_len = 0\n",
    "        for i,ch in enumerate(s):\n",
    "            if ch in last_idx:\n",
    "                if last_idx[ch]>=start_idx:\n",
    "                    #중복된 문자등장\n",
    "                    start_idx = last_idx[ch]+1\n",
    "                    last_idx[ch] = i\n",
    "                    continue\n",
    "                else:\n",
    "                    #옛날에 본 문자 추가된거뿐\n",
    "                    last_idx[ch] = i\n",
    "            else:\n",
    "                ##처음 등장한 문자, 중복 X\n",
    "                last_idx[ch] = i\n",
    "            \n",
    "            cur_len = i + 1 - start_idx\n",
    "            \n",
    "            if cur_len > max_len:\n",
    "                max_len = cur_len\n",
    "        return max_len\n",
    "    \n",
    "    def brute_force_lengthOfLongestSubstring(self, s: str) -> int:\n",
    "        if s == \"\":\n",
    "            return 0\n",
    "        def without_duplicate(s: str) -> bool:\n",
    "            return len(set(s)) == len(s)\n",
    "        len_sub = 1\n",
    "        while (True):\n",
    "            len_sub += 1\n",
    "            found = False\n",
    "            for i in range(len(s)-len_sub+1):\n",
    "                sub_string = s[i:i+len_sub]\n",
    "                if without_duplicate(sub_string):\n",
    "                    found = True\n",
    "                    break\n",
    "            if not found:\n",
    "                len_sub -= 1\n",
    "                break\n",
    "        \n",
    "        return len_sub"
   ]
  },
  {
   "cell_type": "code",
   "execution_count": 10,
   "id": "22a5fb1e",
   "metadata": {},
   "outputs": [],
   "source": [
    "sol = Solution()"
   ]
  },
  {
   "cell_type": "code",
   "execution_count": 11,
   "id": "1997ae61",
   "metadata": {},
   "outputs": [
    {
     "name": "stdout",
     "output_type": "stream",
     "text": [
      "3\n"
     ]
    }
   ],
   "source": [
    "s = \"abcabcbb\"\n",
    "print(sol.lengthOfLongestSubstring(s))  # Output: 3"
   ]
  },
  {
   "cell_type": "code",
   "execution_count": 12,
   "id": "a8bf6a17",
   "metadata": {},
   "outputs": [
    {
     "name": "stdout",
     "output_type": "stream",
     "text": [
      "1\n"
     ]
    }
   ],
   "source": [
    "s = \"bbbbb\"\n",
    "print(sol.lengthOfLongestSubstring(s))  # Output: 1"
   ]
  },
  {
   "cell_type": "code",
   "execution_count": 13,
   "id": "b7043dfb",
   "metadata": {},
   "outputs": [
    {
     "name": "stdout",
     "output_type": "stream",
     "text": [
      "3\n"
     ]
    }
   ],
   "source": [
    "s = \"pwwkew\"\n",
    "print(sol.lengthOfLongestSubstring(s))  # Output: 3"
   ]
  },
  {
   "cell_type": "code",
   "execution_count": 14,
   "id": "9db2653c",
   "metadata": {},
   "outputs": [
    {
     "name": "stdout",
     "output_type": "stream",
     "text": [
      "2\n"
     ]
    }
   ],
   "source": [
    "s = \"au\"\n",
    "print(sol.lengthOfLongestSubstring(s))  # Output: 2"
   ]
  },
  {
   "cell_type": "code",
   "execution_count": 17,
   "id": "5724c2de",
   "metadata": {},
   "outputs": [
    {
     "name": "stdout",
     "output_type": "stream",
     "text": [
      "4\n"
     ]
    }
   ],
   "source": [
    "s = \"pwwkpew\"\n",
    "print(sol.lengthOfLongestSubstring(s))  # Output: 4"
   ]
  },
  {
   "cell_type": "code",
   "execution_count": null,
   "id": "533be4b0",
   "metadata": {},
   "outputs": [
    {
     "name": "stdout",
     "output_type": "stream",
     "text": [
      "3\n"
     ]
    }
   ],
   "source": [
    "s = \"dvdf\"\n",
    "print(sol.lengthOfLongestSubstring(s))  # Output: 3"
   ]
  },
  {
   "cell_type": "code",
   "execution_count": null,
   "id": "dee3563c",
   "metadata": {},
   "outputs": [],
   "source": []
  }
 ],
 "metadata": {
  "kernelspec": {
   "display_name": "Python 3",
   "language": "python",
   "name": "python3"
  },
  "language_info": {
   "codemirror_mode": {
    "name": "ipython",
    "version": 3
   },
   "file_extension": ".py",
   "mimetype": "text/x-python",
   "name": "python",
   "nbconvert_exporter": "python",
   "pygments_lexer": "ipython3",
   "version": "3.10.16"
  }
 },
 "nbformat": 4,
 "nbformat_minor": 5
}
