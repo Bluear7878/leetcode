{
 "cells": [
  {
   "cell_type": "code",
   "execution_count": 11,
   "id": "279d1e03",
   "metadata": {},
   "outputs": [],
   "source": [
    "from typing import List\n",
    "class Solution:\n",
    "    def maximumUniqueSubarray(self, nums: List[int]) -> int:\n",
    "        left = 0\n",
    "        idx = {}\n",
    "        cur_val = 0\n",
    "        max_val = 0\n",
    "        for i,num in enumerate(nums):\n",
    "            if num in idx and left<=idx[num]:\n",
    "                #duplicated number\n",
    "                while left<=idx[num]:\n",
    "                    cur_val -= nums[left]\n",
    "                    left+=1\n",
    "                    \n",
    "            idx[num] = i\n",
    "            cur_val = cur_val + num\n",
    "            max_val = max(cur_val,max_val)\n",
    "        return max_val\n",
    "    \n",
    "    def wrong_maximumUniqueSubarray(self, nums: List[int]) -> int:\n",
    "        list_idx = {}\n",
    "        start_idx = 0\n",
    "        cur_val = 0\n",
    "        max_val = 0\n",
    "        for i,num in enumerate(nums):\n",
    "            if num in list_idx:\n",
    "                #seen number\n",
    "                seen_idx, seen_val = list_idx[num]\n",
    "                \n",
    "                if seen_idx >= start_idx:\n",
    "                    #duplicated number\n",
    "                    start_idx = seen_idx+1\n",
    "                    cur_val = cur_val + num - seen_val\n",
    "                    list_idx[num] = [i,cur_val]\n",
    "                    continue\n",
    "                \n",
    "            #unseen number\n",
    "            cur_val = cur_val + num\n",
    "            list_idx[num] = [i,cur_val]\n",
    "            \n",
    "            if cur_val > max_val:\n",
    "                max_val = cur_val\n",
    "        return max_val"
   ]
  },
  {
   "cell_type": "code",
   "execution_count": 12,
   "id": "447d7f65",
   "metadata": {},
   "outputs": [],
   "source": [
    "sol = Solution()"
   ]
  },
  {
   "cell_type": "code",
   "execution_count": 13,
   "id": "1cdde06c",
   "metadata": {},
   "outputs": [
    {
     "name": "stdout",
     "output_type": "stream",
     "text": [
      "17\n"
     ]
    }
   ],
   "source": [
    "nums = [4,2,4,5,6]\n",
    "print(sol.maximumUniqueSubarray(nums)) # Output 17"
   ]
  },
  {
   "cell_type": "code",
   "execution_count": 14,
   "id": "72f5b483",
   "metadata": {},
   "outputs": [
    {
     "name": "stdout",
     "output_type": "stream",
     "text": [
      "8\n"
     ]
    }
   ],
   "source": [
    "nums = [5,2,1,2,5,2,1,2,5]\n",
    "print(sol.maximumUniqueSubarray(nums)) # Output 8"
   ]
  },
  {
   "cell_type": "code",
   "execution_count": 15,
   "id": "06f813a5",
   "metadata": {},
   "outputs": [],
   "source": [
    "nums = [5,2,1,2,5,2,1,2,5]"
   ]
  },
  {
   "cell_type": "code",
   "execution_count": 9,
   "id": "0c1f9a3b",
   "metadata": {},
   "outputs": [],
   "source": [
    "left = 0\n",
    "idx = {}\n",
    "cur_val = 0\n",
    "max_val = 0\n",
    "for i,num in enumerate(nums):\n",
    "    if num in idx and left<=idx[num]:\n",
    "        #duplicated number\n",
    "        while left<=idx[num]:\n",
    "            cur_val -= nums[left]\n",
    "            left+=1\n",
    "            \n",
    "    idx[num] = i\n",
    "    cur_val = cur_val + num\n",
    "    max_val = max(cur_val,max_val)"
   ]
  },
  {
   "cell_type": "code",
   "execution_count": 10,
   "id": "0d8aa198",
   "metadata": {},
   "outputs": [
    {
     "data": {
      "text/plain": [
       "8"
      ]
     },
     "execution_count": 10,
     "metadata": {},
     "output_type": "execute_result"
    }
   ],
   "source": [
    "max_val"
   ]
  },
  {
   "cell_type": "code",
   "execution_count": null,
   "id": "e6dedbb3",
   "metadata": {},
   "outputs": [],
   "source": []
  }
 ],
 "metadata": {
  "kernelspec": {
   "display_name": "Python 3",
   "language": "python",
   "name": "python3"
  },
  "language_info": {
   "codemirror_mode": {
    "name": "ipython",
    "version": 3
   },
   "file_extension": ".py",
   "mimetype": "text/x-python",
   "name": "python",
   "nbconvert_exporter": "python",
   "pygments_lexer": "ipython3",
   "version": "3.10.16"
  }
 },
 "nbformat": 4,
 "nbformat_minor": 5
}
