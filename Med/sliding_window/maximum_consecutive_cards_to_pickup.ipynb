{
 "cells": [
  {
   "cell_type": "code",
   "execution_count": 11,
   "id": "6b6d76fa",
   "metadata": {},
   "outputs": [],
   "source": [
    "from typing import List\n",
    "class Solution:\n",
    "    def minimumCardPickup(self, cards: List[int]) -> int:\n",
    "        list_idx = {}\n",
    "        result = float('inf')\n",
    "        for i,card in enumerate(cards):\n",
    "            if card in list_idx:\n",
    "                card_len = i - list_idx[card] + 1\n",
    "                result = min(result,card_len)\n",
    "            list_idx[card] = i\n",
    "        return result if result != float('inf') else -1"
   ]
  },
  {
   "cell_type": "code",
   "execution_count": 12,
   "id": "a72c952e",
   "metadata": {},
   "outputs": [],
   "source": [
    "sol = Solution()"
   ]
  },
  {
   "cell_type": "code",
   "execution_count": 13,
   "id": "0b04aaec",
   "metadata": {},
   "outputs": [
    {
     "name": "stdout",
     "output_type": "stream",
     "text": [
      "4\n"
     ]
    }
   ],
   "source": [
    "cards = [3,4,2,3,4,7]\n",
    "print(sol.minimumCardPickup(cards)) # 4"
   ]
  },
  {
   "cell_type": "code",
   "execution_count": 14,
   "id": "335d6cf0",
   "metadata": {},
   "outputs": [
    {
     "name": "stdout",
     "output_type": "stream",
     "text": [
      "-1\n"
     ]
    }
   ],
   "source": [
    "cards = [1,0,5,3]\n",
    "print(sol.minimumCardPickup(cards)) #-1"
   ]
  },
  {
   "cell_type": "code",
   "execution_count": 15,
   "id": "12199531",
   "metadata": {},
   "outputs": [
    {
     "name": "stdout",
     "output_type": "stream",
     "text": [
      "15\n"
     ]
    }
   ],
   "source": [
    "cards = [60,99,100,75,24,71,87,17,46,50,90,18,5,54,97,43,59,51,45,91,0,44,20,96,21,40,49,54,83,30,79,2,62]\n",
    "print(sol.minimumCardPickup(cards)) #-1"
   ]
  },
  {
   "cell_type": "code",
   "execution_count": 5,
   "id": "dfeb6dea",
   "metadata": {},
   "outputs": [],
   "source": [
    "cards = [3,4,2,3,4,7]"
   ]
  },
  {
   "cell_type": "code",
   "execution_count": null,
   "id": "8112f106",
   "metadata": {},
   "outputs": [],
   "source": []
  }
 ],
 "metadata": {
  "kernelspec": {
   "display_name": "Python 3",
   "language": "python",
   "name": "python3"
  },
  "language_info": {
   "codemirror_mode": {
    "name": "ipython",
    "version": 3
   },
   "file_extension": ".py",
   "mimetype": "text/x-python",
   "name": "python",
   "nbconvert_exporter": "python",
   "pygments_lexer": "ipython3",
   "version": "3.10.16"
  }
 },
 "nbformat": 4,
 "nbformat_minor": 5
}
