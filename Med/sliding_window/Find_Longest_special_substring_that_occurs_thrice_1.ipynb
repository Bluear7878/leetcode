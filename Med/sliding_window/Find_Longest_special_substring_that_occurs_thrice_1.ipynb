{
 "cells": [
  {
   "cell_type": "code",
   "execution_count": 95,
   "id": "76a71722",
   "metadata": {},
   "outputs": [],
   "source": [
    "class Solution:\n",
    "    def maximumLength(self, s: str) -> int:\n",
    "        alpahs = {}\n",
    "        sub_s = '0'\n",
    "        for c in s:\n",
    "            if c not in alpahs:\n",
    "                #본적없음\n",
    "                alpahs[c] = [1,1] #0개, 1개\n",
    "                sub_s = c\n",
    "            else:\n",
    "                if sub_s[-1] == c:\n",
    "                    #이전꺼랑 동일\n",
    "                    sub_s += c\n",
    "                    len_sub_s = len(sub_s)\n",
    "                    if len(alpahs[c]) == len_sub_s:\n",
    "                        #처음본 길이면 추가\n",
    "                        alpahs[c].append(1)\n",
    "                        len_sub_s-=1\n",
    "                    while(len_sub_s>=1):\n",
    "                        alpahs[c][len_sub_s]+=1\n",
    "                        len_sub_s-=1\n",
    "                else:\n",
    "                    #이전꺼랑 달라\n",
    "                    sub_s = c\n",
    "                    alpahs[c][1] +=1\n",
    "        max_index = -1\n",
    "        for lst in alpahs:\n",
    "            alpah = alpahs[lst]\n",
    "            for i in range(len(alpah)-1, -1, -1):\n",
    "                if alpah[i] >=3:\n",
    "                    max_index = max(max_index,i)\n",
    "                    break\n",
    "                \n",
    "        return max_index"
   ]
  },
  {
   "cell_type": "code",
   "execution_count": 96,
   "id": "87bdc3bb",
   "metadata": {},
   "outputs": [],
   "source": [
    "sol = Solution()"
   ]
  },
  {
   "cell_type": "code",
   "execution_count": null,
   "id": "34d90bff",
   "metadata": {},
   "outputs": [],
   "source": [
    "s = \"aabbaaabbcaaabaaa\"\n",
    "print(sol.maximumLength(s))"
   ]
  },
  {
   "cell_type": "code",
   "execution_count": 99,
   "id": "e351eb95",
   "metadata": {},
   "outputs": [
    {
     "name": "stdout",
     "output_type": "stream",
     "text": [
      "2\n"
     ]
    }
   ],
   "source": [
    "s = \"aaaa\"\n",
    "print(sol.maximumLength(s))"
   ]
  },
  {
   "cell_type": "code",
   "execution_count": 100,
   "id": "8e21ae63",
   "metadata": {},
   "outputs": [
    {
     "name": "stdout",
     "output_type": "stream",
     "text": [
      "-1\n"
     ]
    }
   ],
   "source": [
    "s = \"abcdef\"\n",
    "print(sol.maximumLength(s))"
   ]
  },
  {
   "cell_type": "code",
   "execution_count": 101,
   "id": "a3f815b9",
   "metadata": {},
   "outputs": [
    {
     "name": "stdout",
     "output_type": "stream",
     "text": [
      "1\n"
     ]
    }
   ],
   "source": [
    "s = \"abcaba\"\n",
    "print(sol.maximumLength(s))"
   ]
  },
  {
   "cell_type": "code",
   "execution_count": null,
   "id": "dcd96e0a",
   "metadata": {},
   "outputs": [],
   "source": []
  },
  {
   "cell_type": "code",
   "execution_count": 75,
   "id": "db2c5ab4",
   "metadata": {},
   "outputs": [],
   "source": [
    "alpahs = {}\n",
    "sub_s = '0'\n",
    "for c in s:\n",
    "    if c not in alpahs:\n",
    "        #본적없음\n",
    "        alpahs[c] = [1,1] #0개, 1개\n",
    "        sub_s = c\n",
    "    else:\n",
    "        if sub_s[-1] == c:\n",
    "            #이전꺼랑 동일\n",
    "            sub_s += c\n",
    "            len_sub_s = len(sub_s)\n",
    "            if len(alpahs[c]) == len_sub_s:\n",
    "                #처음본 길이면 추가\n",
    "                alpahs[c].append(1)\n",
    "                len_sub_s-=1\n",
    "            while(len_sub_s>=1):\n",
    "                alpahs[c][len_sub_s]+=1\n",
    "                len_sub_s-=1\n",
    "        else:\n",
    "            #이전꺼랑 달라\n",
    "            sub_s = c\n",
    "            alpahs[c][1] +=1"
   ]
  },
  {
   "cell_type": "code",
   "execution_count": 76,
   "id": "19e6e63e",
   "metadata": {},
   "outputs": [
    {
     "data": {
      "text/plain": [
       "{'a': [1, 11, 7, 3], 'b': [1, 5, 2], 'c': [1, 1]}"
      ]
     },
     "execution_count": 76,
     "metadata": {},
     "output_type": "execute_result"
    }
   ],
   "source": [
    "alpahs"
   ]
  },
  {
   "cell_type": "code",
   "execution_count": 90,
   "id": "f800d671",
   "metadata": {},
   "outputs": [
    {
     "name": "stdout",
     "output_type": "stream",
     "text": [
      "[1, 11, 7, 3]\n",
      "[1, 5, 2]\n",
      "[1, 1]\n"
     ]
    }
   ],
   "source": [
    "for lst in alpahs:\n",
    "    alpah = alpahs[lst]\n",
    "    print(alpah)\n"
   ]
  },
  {
   "cell_type": "code",
   "execution_count": 93,
   "id": "47cea927",
   "metadata": {},
   "outputs": [],
   "source": [
    "max_index = -1\n",
    "for lst in alpahs:\n",
    "    alpah = alpahs[lst]\n",
    "    for i in range(len(alpah)-1, -1, -1):\n",
    "        if alpah[i] >=3:\n",
    "            max_index = max(max_index,i)\n",
    "            break\n",
    "        "
   ]
  },
  {
   "cell_type": "code",
   "execution_count": 94,
   "id": "c6bf58ab",
   "metadata": {},
   "outputs": [
    {
     "data": {
      "text/plain": [
       "3"
      ]
     },
     "execution_count": 94,
     "metadata": {},
     "output_type": "execute_result"
    }
   ],
   "source": [
    "max_index"
   ]
  },
  {
   "cell_type": "code",
   "execution_count": null,
   "id": "9989c8c3",
   "metadata": {},
   "outputs": [],
   "source": []
  }
 ],
 "metadata": {
  "kernelspec": {
   "display_name": "llama3_ft",
   "language": "python",
   "name": "python3"
  },
  "language_info": {
   "codemirror_mode": {
    "name": "ipython",
    "version": 3
   },
   "file_extension": ".py",
   "mimetype": "text/x-python",
   "name": "python",
   "nbconvert_exporter": "python",
   "pygments_lexer": "ipython3",
   "version": "3.10.16"
  }
 },
 "nbformat": 4,
 "nbformat_minor": 5
}
