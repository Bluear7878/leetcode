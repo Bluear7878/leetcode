{
 "cells": [
  {
   "cell_type": "code",
   "execution_count": 1,
   "id": "7c32d203",
   "metadata": {},
   "outputs": [],
   "source": [
    "class ListNode:\n",
    "    def __init__(self, val=0, next=None):\n",
    "        self.val = val\n",
    "        self.next = next"
   ]
  },
  {
   "cell_type": "code",
   "execution_count": 2,
   "id": "1826fbc3",
   "metadata": {},
   "outputs": [],
   "source": [
    "l3 = ListNode(val=3, next= None)\n",
    "l2 = ListNode(val=4, next= l3)\n",
    "l1 = ListNode(val=2, next= l2)"
   ]
  },
  {
   "cell_type": "code",
   "execution_count": 3,
   "id": "5d3506be",
   "metadata": {},
   "outputs": [],
   "source": [
    "ll3 = ListNode(val=4, next= None)\n",
    "ll2 = ListNode(val=6, next= ll3)\n",
    "ll1 = ListNode(val=5, next= ll2)"
   ]
  },
  {
   "cell_type": "code",
   "execution_count": 4,
   "id": "ae415cbf",
   "metadata": {},
   "outputs": [],
   "source": [
    "nodes1 =  l1\n",
    "nodes2 =  ll1\n",
    "val_pas = 0\n",
    "res_node = ListNode(val=0,next=None)\n",
    "cur_node = res_node\n",
    "while(True):\n",
    "    if nodes1 is None and nodes2 is None:\n",
    "        if val_pas != 0:\n",
    "            cur_node.next = ListNode(val=val_pas,next=None)\n",
    "        break\n",
    "    if nodes1 is not None:\n",
    "        node1_val = nodes1.val\n",
    "        nodes1 = nodes1.next\n",
    "    else:\n",
    "        node1_val = 0\n",
    "        nodes1 = None\n",
    "    if nodes2 is not None:\n",
    "        node2_val = nodes2.val\n",
    "        nodes2 = nodes2.next\n",
    "    else:\n",
    "        node2_val = 0\n",
    "        node2 = None\n",
    "\n",
    "    val_sum = node1_val + node2_val + val_pas\n",
    "    \n",
    "    val_pas = val_sum //10\n",
    "    val_res = val_sum % 10\n",
    "    \n",
    "    cur_node.next = ListNode(val=val_res,next=None)\n",
    "    cur_node = cur_node.next\n",
    "    "
   ]
  },
  {
   "cell_type": "code",
   "execution_count": 5,
   "id": "626008fa",
   "metadata": {},
   "outputs": [],
   "source": [
    "##Optimization\n",
    "\n",
    "dummy = ListNode(0)\n",
    "cur = dummy\n",
    "carry = 0\n",
    "\n",
    "while l1 or l2 or carry:\n",
    "    v1 = l1.val if l1 else 0\n",
    "    v2 = l2.val if l2 else 0\n",
    "    \n",
    "    carry,digit = divmod(v1+v2+carry,10)\n",
    "    \n",
    "    cur.next = ListNode(digit)\n",
    "    cur = cur.next\n",
    "    \n",
    "    if l1: l1 = l1.next\n",
    "    if l2: l2 = l2.next\n",
    "\n"
   ]
  },
  {
   "cell_type": "code",
   "execution_count": 6,
   "id": "b43187e8",
   "metadata": {},
   "outputs": [
    {
     "name": "stdout",
     "output_type": "stream",
     "text": [
      "7\n",
      "0\n",
      "8\n"
     ]
    }
   ],
   "source": [
    "print_node = res_node.next\n",
    "while(print_node is not None):\n",
    "    print(print_node.val)\n",
    "    print_node = print_node.next"
   ]
  },
  {
   "cell_type": "code",
   "execution_count": null,
   "id": "5a34605b",
   "metadata": {},
   "outputs": [],
   "source": []
  }
 ],
 "metadata": {
  "kernelspec": {
   "display_name": "Python 3",
   "language": "python",
   "name": "python3"
  },
  "language_info": {
   "codemirror_mode": {
    "name": "ipython",
    "version": 3
   },
   "file_extension": ".py",
   "mimetype": "text/x-python",
   "name": "python",
   "nbconvert_exporter": "python",
   "pygments_lexer": "ipython3",
   "version": "3.10.16"
  }
 },
 "nbformat": 4,
 "nbformat_minor": 5
}
