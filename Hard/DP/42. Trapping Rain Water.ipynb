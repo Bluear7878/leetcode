{
 "cells": [
  {
   "cell_type": "code",
   "execution_count": 1,
   "id": "6f070e79",
   "metadata": {},
   "outputs": [],
   "source": [
    "from typing import List"
   ]
  },
  {
   "cell_type": "code",
   "execution_count": 38,
   "metadata": {},
   "outputs": [],
   "source": [
    "class Solution:\n",
    "    def trap(self, height: List[int]) -> int:\n",
    "        left = []\n",
    "        max_val = 0\n",
    "        for h in height:\n",
    "            max_val = max(max_val,h)\n",
    "            left.append(max_val)\n",
    "\n",
    "        right = []\n",
    "        max_val = 0\n",
    "        for h in height[::-1]:\n",
    "            max_val = max(max_val,h)\n",
    "            right.append(max_val)\n",
    "        diff = [min(x,y) - z for x,y,z in zip(left,right[::-1],height)]\n",
    "        return sum(diff)\n",
    "    \n",
    "    def trim_zeros_slicing(self,bit_list):\n",
    "        try:\n",
    "            # 1. 첫 번째 1의 인덱스 찾기\n",
    "            first_one_index = bit_list.index(1)\n",
    "\n",
    "            # 2. 마지막 1의 인덱스 찾기 (리스트를 뒤집고, 거기서 첫 1을 찾음)\n",
    "            # reversed_list = bit_list[::-1]\n",
    "            # last_one_in_reversed = reversed_list.index(1)\n",
    "            # last_one_index = len(bit_list) - 1 - last_one_in_reversed\n",
    "            # 위 세 줄을 한 줄로 표현하면 아래와 같습니다.\n",
    "            last_one_index = len(bit_list) - 1 - bit_list[::-1].index(1)\n",
    "\n",
    "            return bit_list[first_one_index : last_one_index + 1]\n",
    "\n",
    "        except ValueError:\n",
    "            return []\n",
    "                \n",
    "    def DP_trap(self, height: List[int]) -> int:\n",
    "        cur_height = min(height)\n",
    "        max_height = max(height)\n",
    "        result = 0\n",
    "        while True:\n",
    "            arr = [1 if h>=cur_height else 0 for h in height]\n",
    "            b_str = self.trim_zeros_slicing(arr)\n",
    "            num_zeros = b_str.count(0)\n",
    "            \n",
    "            if cur_height>max_height:\n",
    "                break\n",
    "            \n",
    "            result += num_zeros\n",
    "            cur_height+=1\n",
    "        return result\n",
    "                "
   ]
  },
  {
   "cell_type": "code",
   "execution_count": 39,
   "id": "a5bd4640",
   "metadata": {},
   "outputs": [],
   "source": [
    "sol = Solution()"
   ]
  },
  {
   "cell_type": "code",
   "execution_count": 40,
   "id": "59d23d5e",
   "metadata": {},
   "outputs": [
    {
     "name": "stdout",
     "output_type": "stream",
     "text": [
      "6\n"
     ]
    }
   ],
   "source": [
    "height = [0,1,0,2,1,0,1,3,2,1,2,1]\n",
    "print(sol.trap(height))"
   ]
  },
  {
   "cell_type": "code",
   "execution_count": 41,
   "id": "359cadbb",
   "metadata": {},
   "outputs": [
    {
     "name": "stdout",
     "output_type": "stream",
     "text": [
      "9\n"
     ]
    }
   ],
   "source": [
    "height = [4,2,0,3,2,5]\n",
    "print(sol.trap(height))"
   ]
  },
  {
   "cell_type": "code",
   "execution_count": 42,
   "id": "7350f83c",
   "metadata": {},
   "outputs": [
    {
     "name": "stdout",
     "output_type": "stream",
     "text": [
      "7\n"
     ]
    }
   ],
   "source": [
    "height = [0,7,1,4,6]\n",
    "print(sol.trap(height))"
   ]
  },
  {
   "cell_type": "code",
   "execution_count": 43,
   "id": "7e0e0ed5",
   "metadata": {},
   "outputs": [
    {
     "name": "stdout",
     "output_type": "stream",
     "text": [
      "2\n"
     ]
    }
   ],
   "source": [
    "height = [2,0,2]\n",
    "print(sol.trap(height))"
   ]
  },
  {
   "cell_type": "code",
   "execution_count": 44,
   "id": "a4054567",
   "metadata": {},
   "outputs": [
    {
     "name": "stdout",
     "output_type": "stream",
     "text": [
      "6\n"
     ]
    }
   ],
   "source": [
    "height = [0,1,0,2,1,0,1,3,2,1,2,1]\n",
    "print(sol.trap(height))"
   ]
  },
  {
   "cell_type": "code",
   "execution_count": 23,
   "id": "315a438f",
   "metadata": {},
   "outputs": [],
   "source": [
    "left = []\n",
    "max_val = 0\n",
    "for h in height:\n",
    "    max_val = max(max_val,h)\n",
    "    left.append(max_val)\n",
    "\n",
    "right = []\n",
    "max_val = 0\n",
    "for h in height[::-1]:\n",
    "    max_val = max(max_val,h)\n",
    "    right.append(max_val)"
   ]
  },
  {
   "cell_type": "code",
   "execution_count": 26,
   "id": "83584ac5",
   "metadata": {},
   "outputs": [
    {
     "data": {
      "text/plain": [
       "[1, 2, 1, 2, 3, 1, 0, 1, 2, 0, 1, 0]"
      ]
     },
     "execution_count": 26,
     "metadata": {},
     "output_type": "execute_result"
    }
   ],
   "source": [
    "height[::-1]"
   ]
  },
  {
   "cell_type": "code",
   "execution_count": 24,
   "id": "28d2bc7c",
   "metadata": {},
   "outputs": [
    {
     "data": {
      "text/plain": [
       "[0, 1, 1, 2, 2, 2, 2, 3, 3, 3, 3, 3]"
      ]
     },
     "execution_count": 24,
     "metadata": {},
     "output_type": "execute_result"
    }
   ],
   "source": [
    "left"
   ]
  },
  {
   "cell_type": "code",
   "execution_count": 34,
   "id": "e265bd81",
   "metadata": {},
   "outputs": [
    {
     "data": {
      "text/plain": [
       "[3, 3, 3, 3, 3, 3, 3, 3, 2, 2, 2, 1]"
      ]
     },
     "execution_count": 34,
     "metadata": {},
     "output_type": "execute_result"
    }
   ],
   "source": [
    "right[::-1]"
   ]
  },
  {
   "cell_type": "code",
   "execution_count": 35,
   "id": "e9af5674",
   "metadata": {},
   "outputs": [
    {
     "data": {
      "text/plain": [
       "[0, 1, 1, 2, 2, 2, 2, 3, 3, 3, 3, 3]"
      ]
     },
     "execution_count": 35,
     "metadata": {},
     "output_type": "execute_result"
    }
   ],
   "source": [
    "min(left,right[::-1])"
   ]
  },
  {
   "cell_type": "code",
   "execution_count": 36,
   "id": "ba089405",
   "metadata": {},
   "outputs": [],
   "source": [
    "diff = [min(x,y) - z for x,y,z in zip(left,right[::-1],height)]"
   ]
  },
  {
   "cell_type": "code",
   "execution_count": 37,
   "id": "b1e76524",
   "metadata": {},
   "outputs": [
    {
     "data": {
      "text/plain": [
       "6"
      ]
     },
     "execution_count": 37,
     "metadata": {},
     "output_type": "execute_result"
    }
   ],
   "source": [
    "sum(diff)"
   ]
  },
  {
   "cell_type": "code",
   "execution_count": null,
   "id": "914c9777",
   "metadata": {},
   "outputs": [],
   "source": []
  }
 ],
 "metadata": {
  "kernelspec": {
   "display_name": "llama3_ft",
   "language": "python",
   "name": "python3"
  },
  "language_info": {
   "codemirror_mode": {
    "name": "ipython",
    "version": 3
   },
   "file_extension": ".py",
   "mimetype": "text/x-python",
   "name": "python",
   "nbconvert_exporter": "python",
   "pygments_lexer": "ipython3",
   "version": "3.10.16"
  }
 },
 "nbformat": 4,
 "nbformat_minor": 5
}
