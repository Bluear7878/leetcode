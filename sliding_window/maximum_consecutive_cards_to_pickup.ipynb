{
 "cells": [
  {
   "cell_type": "code",
   "execution_count": null,
   "id": "6b6d76fa",
   "metadata": {},
   "outputs": [],
   "source": [
    "from typing import List\n",
    "class Solution:\n",
    "    def minimumCardPickup(self, cards: List[int]) -> int:\n",
    "        list_idx = {}\n",
    "        result = 10^5+1\n",
    "        for i,card in enumerate(cards):\n",
    "            if card in list_idx:\n",
    "                card_len = i - list_idx[card]\n",
    "                result = min(result,card_len)\n",
    "                list_idx[card] = i\n",
    "            else:\n",
    "                #unseen\n",
    "                list_idx[card] = i\n",
    "        return result"
   ]
  },
  {
   "cell_type": "code",
   "execution_count": 2,
   "id": "a72c952e",
   "metadata": {},
   "outputs": [],
   "source": [
    "sol = Solution()"
   ]
  },
  {
   "cell_type": "code",
   "execution_count": 3,
   "id": "0b04aaec",
   "metadata": {},
   "outputs": [
    {
     "name": "stdout",
     "output_type": "stream",
     "text": [
      "3\n"
     ]
    }
   ],
   "source": [
    "cards = [3,4,2,3,4,7]\n",
    "print(sol.minimumCardPickup(cards)) # 4"
   ]
  },
  {
   "cell_type": "code",
   "execution_count": 4,
   "id": "335d6cf0",
   "metadata": {},
   "outputs": [
    {
     "name": "stdout",
     "output_type": "stream",
     "text": [
      "12\n"
     ]
    }
   ],
   "source": [
    "cards = [1,0,5,3]\n",
    "print(sol.minimumCardPickup(cards)) #-1"
   ]
  },
  {
   "cell_type": "code",
   "execution_count": 5,
   "id": "dfeb6dea",
   "metadata": {},
   "outputs": [],
   "source": [
    "cards = [3,4,2,3,4,7]"
   ]
  },
  {
   "cell_type": "code",
   "execution_count": 6,
   "id": "036651ad",
   "metadata": {},
   "outputs": [],
   "source": [
    "list_idx = {}\n",
    "result = 0\n",
    "for i,card in enumerate(cards):\n",
    "    if card in list_idx:\n",
    "        card_len = i - list_idx[card]\n",
    "        result = min(result,card_len)\n",
    "        list_idx[card] = i\n",
    "    else:\n",
    "        #unseen\n",
    "        list_idx[card] = i"
   ]
  },
  {
   "cell_type": "code",
   "execution_count": 7,
   "id": "82b84a50",
   "metadata": {},
   "outputs": [
    {
     "data": {
      "text/plain": [
       "3"
      ]
     },
     "execution_count": 7,
     "metadata": {},
     "output_type": "execute_result"
    }
   ],
   "source": [
    "card_len"
   ]
  },
  {
   "cell_type": "code",
   "execution_count": null,
   "id": "8112f106",
   "metadata": {},
   "outputs": [],
   "source": []
  }
 ],
 "metadata": {
  "kernelspec": {
   "display_name": "Python 3",
   "language": "python",
   "name": "python3"
  },
  "language_info": {
   "codemirror_mode": {
    "name": "ipython",
    "version": 3
   },
   "file_extension": ".py",
   "mimetype": "text/x-python",
   "name": "python",
   "nbconvert_exporter": "python",
   "pygments_lexer": "ipython3",
   "version": "3.10.16"
  }
 },
 "nbformat": 4,
 "nbformat_minor": 5
}
